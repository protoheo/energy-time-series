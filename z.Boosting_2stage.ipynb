{
 "cells": [
  {
   "cell_type": "code",
   "execution_count": 3,
   "id": "abf65376",
   "metadata": {},
   "outputs": [],
   "source": [
    "from xgboost.sklearn import XGBRegressor\n",
    "import pandas as pd"
   ]
  },
  {
   "cell_type": "code",
   "execution_count": 4,
   "id": "b9b40b90",
   "metadata": {},
   "outputs": [],
   "source": [
    "import os    \n",
    "os.environ['KMP_DUPLICATE_LIB_OK'] = 'True'"
   ]
  },
  {
   "cell_type": "code",
   "execution_count": 5,
   "id": "d289457e",
   "metadata": {},
   "outputs": [],
   "source": [
    "import torch\n",
    "from model.model_load import load_model\n",
    "from configs.setting import global_setting\n",
    "from libs.common.project_paths import GetPaths\n",
    "\n",
    "import pandas as pd\n",
    "import matplotlib.pyplot as plt\n",
    "from libs import train_utils\n",
    "\n",
    "import joblib"
   ]
  },
  {
   "cell_type": "code",
   "execution_count": 6,
   "id": "41465f78",
   "metadata": {},
   "outputs": [],
   "source": [
    "import yaml\n",
    "\n",
    "def load_config(cfg_path):\n",
    "    return yaml.full_load(open(cfg_path, 'r', encoding='utf-8-sig'))\n"
   ]
  },
  {
   "cell_type": "code",
   "execution_count": 7,
   "id": "66808e5a",
   "metadata": {},
   "outputs": [],
   "source": [
    "df = pd.read_excel('res/total_set.xlsx')"
   ]
  },
  {
   "cell_type": "code",
   "execution_count": 16,
   "id": "a29a7f04",
   "metadata": {},
   "outputs": [],
   "source": [
    "config_file = 'cfg.yaml'\n",
    "config_path = GetPaths().get_configs_folder(config_file)\n",
    "\n",
    "config = load_config(config_path)"
   ]
  },
  {
   "cell_type": "code",
   "execution_count": 17,
   "id": "0914706b",
   "metadata": {},
   "outputs": [
    {
     "data": {
      "text/plain": [
       "['Vertical', 'Horizontal', 'Module', 'Outdoor']"
      ]
     },
     "execution_count": 17,
     "metadata": {},
     "output_type": "execute_result"
    }
   ],
   "source": [
    "config['DATA']['X_COLS']"
   ]
  },
  {
   "cell_type": "markdown",
   "id": "5d104c82",
   "metadata": {},
   "source": [
    "# Dataset"
   ]
  },
  {
   "cell_type": "code",
   "execution_count": 19,
   "id": "e2e15374",
   "metadata": {},
   "outputs": [],
   "source": [
    "from sklearn.preprocessing import MinMaxScaler\n",
    "from libs.common.common import scaler_save"
   ]
  },
  {
   "cell_type": "code",
   "execution_count": 20,
   "id": "fd492076",
   "metadata": {},
   "outputs": [],
   "source": [
    "train, valid, test = train_utils.split_dataset(df, config)"
   ]
  },
  {
   "cell_type": "code",
   "execution_count": null,
   "id": "c7c06aeb",
   "metadata": {},
   "outputs": [],
   "source": []
  },
  {
   "cell_type": "code",
   "execution_count": 21,
   "id": "3bb14311",
   "metadata": {},
   "outputs": [],
   "source": [
    "weather_cols = config['DATA']['X_COLS']\n",
    "target_cols = config['DATA']['Y_TARGET']\n",
    "\n",
    "train_weather_x = train[weather_cols]\n",
    "valid_weather_x = valid[weather_cols]\n",
    "test_weather_x = test[weather_cols]\n",
    "\n",
    "train_weather_y = train[target_cols]\n",
    "valid_weather_y = valid[target_cols]\n",
    "test_weather_y = test[target_cols]\n",
    "\n",
    "# Set Scaler\n",
    "sc_x = MinMaxScaler()\n",
    "sc_x.fit(train_weather_x.values)\n",
    "sc_y = MinMaxScaler()\n",
    "sc_y.fit(train_weather_y.values)\n",
    "scaler_save(sc_x, name='x_scaler')\n",
    "scaler_save(sc_y, name='y_scaler')"
   ]
  },
  {
   "cell_type": "code",
   "execution_count": 22,
   "id": "25c6b6f3",
   "metadata": {},
   "outputs": [
    {
     "name": "stderr",
     "output_type": "stream",
     "text": [
      "C:\\Users\\proto\\anaconda3\\lib\\site-packages\\sklearn\\base.py:443: UserWarning: X has feature names, but MinMaxScaler was fitted without feature names\n",
      "  warnings.warn(\n",
      "C:\\Users\\proto\\anaconda3\\lib\\site-packages\\sklearn\\base.py:443: UserWarning: X has feature names, but MinMaxScaler was fitted without feature names\n",
      "  warnings.warn(\n",
      "C:\\Users\\proto\\anaconda3\\lib\\site-packages\\sklearn\\base.py:443: UserWarning: X has feature names, but MinMaxScaler was fitted without feature names\n",
      "  warnings.warn(\n"
     ]
    }
   ],
   "source": [
    "train_x = sc_x.transform(train_weather_x)\n",
    "valid_x = sc_x.transform(valid_weather_x)\n",
    "test_x = sc_x.transform(test_weather_x)\n",
    "\n",
    "# train_y = train_weather_y[target_cols].values\n",
    "# valid_y = valid_weather_y[target_cols].values\n",
    "# test_y = test_weather_y[target_cols].values\n",
    "\n",
    "train_y = sc_y.transform(train_weather_y[target_cols].values)\n",
    "valid_y = sc_y.transform(valid_weather_y[target_cols].values)\n",
    "test_y = sc_y.transform(test_weather_y[target_cols].values)\n",
    "\n",
    "eval_set = [(valid_x, valid_y)]"
   ]
  },
  {
   "cell_type": "code",
   "execution_count": 23,
   "id": "daeaacae",
   "metadata": {},
   "outputs": [
    {
     "name": "stdout",
     "output_type": "stream",
     "text": [
      "[0]\tvalidation_0-rmse:0.31524\n",
      "[1]\tvalidation_0-rmse:0.22198\n",
      "[2]\tvalidation_0-rmse:0.15736\n",
      "[3]\tvalidation_0-rmse:0.11294\n",
      "[4]\tvalidation_0-rmse:0.08316\n",
      "[5]\tvalidation_0-rmse:0.06375\n",
      "[6]\tvalidation_0-rmse:0.05174\n",
      "[7]\tvalidation_0-rmse:0.04474\n",
      "[8]\tvalidation_0-rmse:0.04102\n",
      "[9]\tvalidation_0-rmse:0.03909\n",
      "[10]\tvalidation_0-rmse:0.03815\n",
      "[11]\tvalidation_0-rmse:0.03770\n",
      "[12]\tvalidation_0-rmse:0.03755\n",
      "[13]\tvalidation_0-rmse:0.03747\n",
      "[14]\tvalidation_0-rmse:0.03744\n",
      "[15]\tvalidation_0-rmse:0.03742\n",
      "[16]\tvalidation_0-rmse:0.03740\n",
      "[17]\tvalidation_0-rmse:0.03740\n",
      "[18]\tvalidation_0-rmse:0.03741\n",
      "[19]\tvalidation_0-rmse:0.03738\n",
      "[20]\tvalidation_0-rmse:0.03742\n",
      "[21]\tvalidation_0-rmse:0.03743\n",
      "[22]\tvalidation_0-rmse:0.03739\n",
      "[23]\tvalidation_0-rmse:0.03739\n",
      "[24]\tvalidation_0-rmse:0.03741\n",
      "[25]\tvalidation_0-rmse:0.03741\n",
      "[26]\tvalidation_0-rmse:0.03744\n",
      "[27]\tvalidation_0-rmse:0.03744\n",
      "[28]\tvalidation_0-rmse:0.03745\n",
      "[29]\tvalidation_0-rmse:0.03745\n",
      "[30]\tvalidation_0-rmse:0.03746\n",
      "[31]\tvalidation_0-rmse:0.03747\n",
      "[32]\tvalidation_0-rmse:0.03747\n",
      "[33]\tvalidation_0-rmse:0.03747\n",
      "[34]\tvalidation_0-rmse:0.03747\n",
      "[35]\tvalidation_0-rmse:0.03747\n",
      "[36]\tvalidation_0-rmse:0.03748\n",
      "[37]\tvalidation_0-rmse:0.03748\n",
      "[38]\tvalidation_0-rmse:0.03749\n",
      "[39]\tvalidation_0-rmse:0.03749\n",
      "[40]\tvalidation_0-rmse:0.03750\n",
      "[41]\tvalidation_0-rmse:0.03750\n",
      "[42]\tvalidation_0-rmse:0.03751\n",
      "[43]\tvalidation_0-rmse:0.03753\n",
      "[44]\tvalidation_0-rmse:0.03754\n",
      "[45]\tvalidation_0-rmse:0.03754\n",
      "[46]\tvalidation_0-rmse:0.03754\n",
      "[47]\tvalidation_0-rmse:0.03754\n",
      "[48]\tvalidation_0-rmse:0.03753\n",
      "[49]\tvalidation_0-rmse:0.03753\n"
     ]
    }
   ],
   "source": [
    "reg = XGBRegressor(n_estimators=50, ## 붓스트랩 샘플 개수 또는 base_estimator 개수\n",
    "                   max_depth=5, ## 개별 나무의 최대 깊이\n",
    "                   gamma = 0, ## gamma\n",
    "                   importance_type='gain', ## gain, weight, cover, total_gain, total_cover\n",
    "                   reg_lambda = 1, ## tuning parameter of l2 penalty                   \n",
    "                   random_state=100\n",
    "                  ).fit(train_x,train_y,\n",
    "                        eval_set = eval_set)"
   ]
  },
  {
   "cell_type": "markdown",
   "id": "7ec80de9",
   "metadata": {},
   "source": [
    "# Save Model"
   ]
  },
  {
   "cell_type": "code",
   "execution_count": 24,
   "id": "b55423fe",
   "metadata": {},
   "outputs": [],
   "source": [
    "os.makedirs('ckpt/ml', exist_ok=True)\n",
    "\n",
    "filename = 'ckpt/ml/xgb_2nd.model'\n",
    "reg.save_model(filename)"
   ]
  },
  {
   "cell_type": "code",
   "execution_count": null,
   "id": "6c483956",
   "metadata": {},
   "outputs": [],
   "source": []
  },
  {
   "cell_type": "markdown",
   "id": "dea9911f",
   "metadata": {},
   "source": [
    "# Model Test"
   ]
  },
  {
   "cell_type": "code",
   "execution_count": 25,
   "id": "40ad63a8",
   "metadata": {},
   "outputs": [],
   "source": [
    "model1_path = 'ckpt/ml/2stage-1/xgb_1st.model'\n",
    "model2_path = 'ckpt/ml/2stage-1/xgb_2nd.model'"
   ]
  },
  {
   "cell_type": "code",
   "execution_count": 26,
   "id": "622b60f3",
   "metadata": {},
   "outputs": [],
   "source": [
    "model1 = XGBRegressor()\n",
    "model1.load_model(model1_path)\n",
    "\n",
    "model2 = XGBRegressor()\n",
    "model2.load_model(model2_path)"
   ]
  },
  {
   "cell_type": "code",
   "execution_count": 29,
   "id": "8977e7f6",
   "metadata": {},
   "outputs": [],
   "source": [
    "weather_cols = ['rain', 'wind', 'humidity', 'pressure', 'snow', 'cloud', 'visibility']\n",
    "target_cols = ['total']\n",
    "\n",
    "test_weather_x = test[weather_cols]\n",
    "test_weather_y = test[target_cols]"
   ]
  },
  {
   "cell_type": "code",
   "execution_count": 31,
   "id": "85d8a333",
   "metadata": {},
   "outputs": [
    {
     "name": "stderr",
     "output_type": "stream",
     "text": [
      "C:\\Users\\proto\\anaconda3\\lib\\site-packages\\sklearn\\base.py:443: UserWarning: X has feature names, but MinMaxScaler was fitted without feature names\n",
      "  warnings.warn(\n"
     ]
    }
   ],
   "source": [
    "s_x = 'ckpt/ml/2stage-1/SCALER_1/x_scaler.pkl'\n",
    "s_y = 'ckpt/ml/2stage-1/SCALER_2/y_scaler.pkl'\n",
    "\n",
    "sc_x = joblib.load(s_x)\n",
    "sc_y = joblib.load(s_y)\n",
    "\n",
    "test_x = sc_x.transform(test_weather_x)\n",
    "test_y = sc_y.transform(test_weather_y[target_cols].values)"
   ]
  },
  {
   "cell_type": "code",
   "execution_count": 32,
   "id": "e369faa0",
   "metadata": {},
   "outputs": [],
   "source": [
    "pred_ = model1.predict(test_x)\n",
    "pred = model2.predict(pred_)\n",
    "\n"
   ]
  },
  {
   "cell_type": "markdown",
   "id": "33e1ead0",
   "metadata": {},
   "source": [
    "# Get Accuracy"
   ]
  },
  {
   "cell_type": "code",
   "execution_count": 35,
   "id": "6a2c4817",
   "metadata": {},
   "outputs": [],
   "source": [
    "import numpy as np\n",
    "from sklearn.metrics import mean_squared_error, mean_absolute_error\n",
    "def get_accuracy(y_hat, target):\n",
    "    mae = mean_absolute_error(target, y_hat)\n",
    "    mse = mean_squared_error(target, y_hat)\n",
    "    rmse = np.sqrt(mse)\n",
    "    \n",
    "#     mape = torch.mean(torch.abs((target - y_hat) / target)) * 100\n",
    "\n",
    "    acc = [round(mae, 4), round(mse, 4), round(rmse, 4)]\n",
    "    return acc"
   ]
  },
  {
   "cell_type": "code",
   "execution_count": 36,
   "id": "57358256",
   "metadata": {},
   "outputs": [
    {
     "data": {
      "text/plain": [
       "[0.0491, 0.0039, 0.0627]"
      ]
     },
     "execution_count": 36,
     "metadata": {},
     "output_type": "execute_result"
    }
   ],
   "source": [
    "get_accuracy(pred, test_y)"
   ]
  },
  {
   "cell_type": "code",
   "execution_count": 59,
   "id": "dbd4bb0e",
   "metadata": {},
   "outputs": [
    {
     "data": {
      "text/plain": [
       "0.06194925823000602"
      ]
     },
     "execution_count": 59,
     "metadata": {},
     "output_type": "execute_result"
    }
   ],
   "source": []
  },
  {
   "cell_type": "code",
   "execution_count": null,
   "id": "9c7517d5",
   "metadata": {},
   "outputs": [],
   "source": []
  }
 ],
 "metadata": {
  "kernelspec": {
   "display_name": "Python 3 (ipykernel)",
   "language": "python",
   "name": "python3"
  },
  "language_info": {
   "codemirror_mode": {
    "name": "ipython",
    "version": 3
   },
   "file_extension": ".py",
   "mimetype": "text/x-python",
   "name": "python",
   "nbconvert_exporter": "python",
   "pygments_lexer": "ipython3",
   "version": "3.9.13"
  }
 },
 "nbformat": 4,
 "nbformat_minor": 5
}
