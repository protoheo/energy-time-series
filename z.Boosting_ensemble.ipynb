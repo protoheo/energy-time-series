{
 "cells": [
  {
   "cell_type": "code",
   "execution_count": 1,
   "id": "abf65376",
   "metadata": {},
   "outputs": [],
   "source": [
    "from xgboost.sklearn import XGBRegressor\n",
    "import pandas as pd"
   ]
  },
  {
   "cell_type": "code",
   "execution_count": 2,
   "id": "b9b40b90",
   "metadata": {},
   "outputs": [],
   "source": [
    "import os    \n",
    "os.environ['KMP_DUPLICATE_LIB_OK'] = 'True'"
   ]
  },
  {
   "cell_type": "code",
   "execution_count": 3,
   "id": "d289457e",
   "metadata": {},
   "outputs": [],
   "source": [
    "import torch\n",
    "from model.model_load import load_model\n",
    "from configs.setting import global_setting\n",
    "from libs.common.project_paths import GetPaths\n",
    "\n",
    "import pandas as pd\n",
    "import matplotlib.pyplot as plt\n",
    "from libs import train_utils\n",
    "\n",
    "import joblib"
   ]
  },
  {
   "cell_type": "code",
   "execution_count": 4,
   "id": "41465f78",
   "metadata": {},
   "outputs": [],
   "source": [
    "import yaml\n",
    "\n",
    "def load_config(cfg_path):\n",
    "    return yaml.full_load(open(cfg_path, 'r', encoding='utf-8-sig'))\n"
   ]
  },
  {
   "cell_type": "code",
   "execution_count": 5,
   "id": "66808e5a",
   "metadata": {},
   "outputs": [],
   "source": [
    "df = pd.read_excel('res/total_set.xlsx')"
   ]
  },
  {
   "cell_type": "code",
   "execution_count": 6,
   "id": "a29a7f04",
   "metadata": {},
   "outputs": [],
   "source": [
    "config_file = 'cfg.yaml'\n",
    "config_path = GetPaths().get_configs_folder(config_file)\n",
    "\n",
    "config = load_config(config_path)"
   ]
  },
  {
   "cell_type": "markdown",
   "id": "5d104c82",
   "metadata": {},
   "source": [
    "# Dataset"
   ]
  },
  {
   "cell_type": "code",
   "execution_count": 7,
   "id": "e2e15374",
   "metadata": {},
   "outputs": [],
   "source": [
    "from sklearn.preprocessing import MinMaxScaler\n",
    "from libs.common.common import scaler_save"
   ]
  },
  {
   "cell_type": "code",
   "execution_count": 8,
   "id": "fd492076",
   "metadata": {},
   "outputs": [],
   "source": [
    "train, valid, test = train_utils.split_dataset(df, config)"
   ]
  },
  {
   "cell_type": "code",
   "execution_count": 38,
   "id": "c7c06aeb",
   "metadata": {},
   "outputs": [],
   "source": [
    "weather_cols = ['rain', 'wind', 'humidity', 'pressure', 'snow', 'cloud', 'visibility']\n",
    "weather_col1 = ['rain', 'wind', 'humidity', 'snow', 'cloud', 'visibility']\n",
    "weather_col2 = ['rain', 'wind', 'pressure', 'snow', 'cloud', 'visibility']\n",
    "wc1 = [0,1,2,4,5,6]\n",
    "wc2 = [0,1,3,4,5,6]\n",
    "\n",
    "\n",
    "mid_target = ['Vertical', 'Horizontal', 'Module', 'Outdoor']\n",
    "\n",
    "sensor_col1 = ['Vertical', 'Module']\n",
    "sensor_col2 = ['Horizontal', 'Outdoor']\n",
    "sc1 = [0, 2]\n",
    "sc2 = [1, 3]\n",
    "\n",
    "target_cols = ['total']\n"
   ]
  },
  {
   "cell_type": "code",
   "execution_count": 44,
   "id": "3bb14311",
   "metadata": {},
   "outputs": [
    {
     "name": "stderr",
     "output_type": "stream",
     "text": [
      "C:\\Users\\proto\\anaconda3\\lib\\site-packages\\sklearn\\base.py:443: UserWarning: X has feature names, but MinMaxScaler was fitted without feature names\n",
      "  warnings.warn(\n",
      "C:\\Users\\proto\\anaconda3\\lib\\site-packages\\sklearn\\base.py:443: UserWarning: X has feature names, but MinMaxScaler was fitted without feature names\n",
      "  warnings.warn(\n",
      "C:\\Users\\proto\\anaconda3\\lib\\site-packages\\sklearn\\base.py:443: UserWarning: X has feature names, but MinMaxScaler was fitted without feature names\n",
      "  warnings.warn(\n"
     ]
    }
   ],
   "source": [
    "train_weather_x = train[weather_cols]\n",
    "valid_weather_x = valid[weather_cols]\n",
    "test_weather_x = test[weather_cols]\n",
    "\n",
    "train_weather_y = train[mid_target]\n",
    "valid_weather_y = valid[mid_target]\n",
    "test_weather_y = test[mid_target]\n",
    "\n",
    "# Set Scaler\n",
    "s_x = 'ckpt/ml/2stage-1/SCALER_1/x_scaler.pkl'\n",
    "s_y = 'ckpt/ml/2stage-1/SCALER_1/y_scaler.pkl'\n",
    "\n",
    "sc_x = joblib.load(s_x)\n",
    "sc_y = joblib.load(s_y)\n",
    "\n",
    "\n",
    "tx = sc_x.transform(train_weather_x)\n",
    "vx = sc_x.transform(valid_weather_x)\n",
    "test_x = sc_x.transform(test_weather_x)\n",
    "\n",
    "ty = sc_y.transform(train_weather_y[mid_target].values)\n",
    "vy = sc_y.transform(valid_weather_y[mid_target].values)"
   ]
  },
  {
   "cell_type": "code",
   "execution_count": 34,
   "id": "4a469fff",
   "metadata": {},
   "outputs": [
    {
     "data": {
      "text/plain": [
       "array([[0.        , 0.18867925, 0.5       , ..., 0.        , 0.3       ,\n",
       "        0.25534402],\n",
       "       [0.        , 0.1509434 , 0.62222222, ..., 0.        , 0.7       ,\n",
       "        0.38259853],\n",
       "       [0.        , 0.02830189, 0.97777778, ..., 0.        , 1.        ,\n",
       "        0.01519706],\n",
       "       ...,\n",
       "       [0.        , 0.05660377, 0.98888889, ..., 0.        , 1.        ,\n",
       "        0.09151637],\n",
       "       [0.        , 0.        , 0.94444444, ..., 0.        , 0.7       ,\n",
       "        0.34402138],\n",
       "       [0.        , 0.12264151, 0.95555556, ..., 0.        , 1.        ,\n",
       "        0.13877756]])"
      ]
     },
     "execution_count": 34,
     "metadata": {},
     "output_type": "execute_result"
    }
   ],
   "source": [
    "tx[:, [1,2]].shape"
   ]
  },
  {
   "cell_type": "code",
   "execution_count": 37,
   "id": "6026ff16",
   "metadata": {},
   "outputs": [
    {
     "name": "stdout",
     "output_type": "stream",
     "text": [
      "[0]\tvalidation_0-rmse:0.26303\n",
      "[1]\tvalidation_0-rmse:0.23738\n",
      "[2]\tvalidation_0-rmse:0.22308\n",
      "[3]\tvalidation_0-rmse:0.21528\n",
      "[4]\tvalidation_0-rmse:0.21125\n",
      "[5]\tvalidation_0-rmse:0.20866\n",
      "[6]\tvalidation_0-rmse:0.20744\n",
      "[7]\tvalidation_0-rmse:0.20679\n",
      "[8]\tvalidation_0-rmse:0.20666\n",
      "[9]\tvalidation_0-rmse:0.20629\n",
      "[10]\tvalidation_0-rmse:0.20629\n",
      "[11]\tvalidation_0-rmse:0.20609\n",
      "[12]\tvalidation_0-rmse:0.20627\n",
      "[13]\tvalidation_0-rmse:0.20640\n",
      "[14]\tvalidation_0-rmse:0.20648\n",
      "[15]\tvalidation_0-rmse:0.20636\n",
      "[16]\tvalidation_0-rmse:0.20641\n",
      "[17]\tvalidation_0-rmse:0.20654\n",
      "[18]\tvalidation_0-rmse:0.20661\n",
      "[19]\tvalidation_0-rmse:0.20673\n",
      "[20]\tvalidation_0-rmse:0.20673\n",
      "[21]\tvalidation_0-rmse:0.20676\n",
      "[22]\tvalidation_0-rmse:0.20694\n",
      "[23]\tvalidation_0-rmse:0.20692\n",
      "[24]\tvalidation_0-rmse:0.20708\n",
      "[25]\tvalidation_0-rmse:0.20713\n",
      "[26]\tvalidation_0-rmse:0.20712\n",
      "[27]\tvalidation_0-rmse:0.20704\n",
      "[28]\tvalidation_0-rmse:0.20721\n",
      "[29]\tvalidation_0-rmse:0.20731\n",
      "[30]\tvalidation_0-rmse:0.20740\n",
      "[31]\tvalidation_0-rmse:0.20758\n",
      "[32]\tvalidation_0-rmse:0.20772\n",
      "[33]\tvalidation_0-rmse:0.20763\n",
      "[34]\tvalidation_0-rmse:0.20766\n",
      "[35]\tvalidation_0-rmse:0.20790\n",
      "[36]\tvalidation_0-rmse:0.20786\n",
      "[37]\tvalidation_0-rmse:0.20774\n",
      "[38]\tvalidation_0-rmse:0.20798\n",
      "[39]\tvalidation_0-rmse:0.20802\n",
      "[40]\tvalidation_0-rmse:0.20810\n",
      "[41]\tvalidation_0-rmse:0.20805\n",
      "[42]\tvalidation_0-rmse:0.20811\n",
      "[43]\tvalidation_0-rmse:0.20810\n",
      "[44]\tvalidation_0-rmse:0.20820\n",
      "[45]\tvalidation_0-rmse:0.20835\n",
      "[46]\tvalidation_0-rmse:0.20839\n",
      "[47]\tvalidation_0-rmse:0.20839\n",
      "[48]\tvalidation_0-rmse:0.20833\n",
      "[49]\tvalidation_0-rmse:0.20857\n",
      "[0]\tvalidation_0-rmse:0.25645\n",
      "[1]\tvalidation_0-rmse:0.22635\n",
      "[2]\tvalidation_0-rmse:0.20957\n",
      "[3]\tvalidation_0-rmse:0.20046\n",
      "[4]\tvalidation_0-rmse:0.19547\n",
      "[5]\tvalidation_0-rmse:0.19264\n",
      "[6]\tvalidation_0-rmse:0.19122\n",
      "[7]\tvalidation_0-rmse:0.19047\n",
      "[8]\tvalidation_0-rmse:0.19003\n",
      "[9]\tvalidation_0-rmse:0.18981\n",
      "[10]\tvalidation_0-rmse:0.18992\n",
      "[11]\tvalidation_0-rmse:0.19004\n",
      "[12]\tvalidation_0-rmse:0.19004\n",
      "[13]\tvalidation_0-rmse:0.19008\n",
      "[14]\tvalidation_0-rmse:0.19008\n",
      "[15]\tvalidation_0-rmse:0.19012\n",
      "[16]\tvalidation_0-rmse:0.19021\n",
      "[17]\tvalidation_0-rmse:0.18988\n",
      "[18]\tvalidation_0-rmse:0.18996\n",
      "[19]\tvalidation_0-rmse:0.19024\n",
      "[20]\tvalidation_0-rmse:0.19027\n",
      "[21]\tvalidation_0-rmse:0.19039\n",
      "[22]\tvalidation_0-rmse:0.19052\n",
      "[23]\tvalidation_0-rmse:0.19076\n",
      "[24]\tvalidation_0-rmse:0.19083\n",
      "[25]\tvalidation_0-rmse:0.19091\n",
      "[26]\tvalidation_0-rmse:0.19104\n",
      "[27]\tvalidation_0-rmse:0.19109\n",
      "[28]\tvalidation_0-rmse:0.19112\n",
      "[29]\tvalidation_0-rmse:0.19132\n",
      "[30]\tvalidation_0-rmse:0.19146\n",
      "[31]\tvalidation_0-rmse:0.19153\n",
      "[32]\tvalidation_0-rmse:0.19158\n",
      "[33]\tvalidation_0-rmse:0.19160\n",
      "[34]\tvalidation_0-rmse:0.19198\n",
      "[35]\tvalidation_0-rmse:0.19197\n",
      "[36]\tvalidation_0-rmse:0.19194\n",
      "[37]\tvalidation_0-rmse:0.19230\n",
      "[38]\tvalidation_0-rmse:0.19240\n",
      "[39]\tvalidation_0-rmse:0.19249\n",
      "[40]\tvalidation_0-rmse:0.19264\n",
      "[41]\tvalidation_0-rmse:0.19271\n",
      "[42]\tvalidation_0-rmse:0.19288\n",
      "[43]\tvalidation_0-rmse:0.19297\n",
      "[44]\tvalidation_0-rmse:0.19314\n",
      "[45]\tvalidation_0-rmse:0.19342\n",
      "[46]\tvalidation_0-rmse:0.19342\n",
      "[47]\tvalidation_0-rmse:0.19349\n",
      "[48]\tvalidation_0-rmse:0.19369\n",
      "[49]\tvalidation_0-rmse:0.19404\n"
     ]
    }
   ],
   "source": [
    "for idx, weather_c in enumerate([wc1, wc2]):\n",
    "    tx_ = tx[:, weather_c]\n",
    "    vx_ = vx[:, weather_c]\n",
    "#     test_weather_x = test[weather_c]\n",
    "#     test_weather_y = test[mid_target]\n",
    "\n",
    "\n",
    "    eval_set = [(vx_, vy)]\n",
    "    \n",
    "    reg = XGBRegressor(n_estimators=50, ## 붓스트랩 샘플 개수 또는 base_estimator 개수\n",
    "                       max_depth=5, ## 개별 나무의 최대 깊이\n",
    "                       gamma = 0, ## gamma\n",
    "                       importance_type='gain', ## gain, weight, cover, total_gain, total_cover\n",
    "                       reg_lambda = 1, ## tuning parameter of l2 penalty                   \n",
    "                       random_state=100\n",
    "                      ).fit(tx_,ty,\n",
    "                            eval_set = eval_set)\n",
    "    \n",
    "    filename = 'ckpt/ml/ensemble/xgb_ens1_{}.model'.format(idx)\n",
    "    reg.save_model(filename)\n",
    "    \n",
    "    \n",
    "    "
   ]
  },
  {
   "cell_type": "code",
   "execution_count": 40,
   "id": "25c6b6f3",
   "metadata": {},
   "outputs": [
    {
     "name": "stderr",
     "output_type": "stream",
     "text": [
      "C:\\Users\\proto\\anaconda3\\lib\\site-packages\\sklearn\\base.py:443: UserWarning: X has feature names, but MinMaxScaler was fitted without feature names\n",
      "  warnings.warn(\n",
      "C:\\Users\\proto\\anaconda3\\lib\\site-packages\\sklearn\\base.py:443: UserWarning: X has feature names, but MinMaxScaler was fitted without feature names\n",
      "  warnings.warn(\n"
     ]
    }
   ],
   "source": [
    "train_weather_x = train[mid_target]\n",
    "valid_weather_x = valid[mid_target]\n",
    "test_weather_x = test[mid_target]\n",
    "\n",
    "train_weather_y = train[target_cols]\n",
    "valid_weather_y = valid[target_cols]\n",
    "test_weather_y = test[target_cols]\n",
    "\n",
    "# Set Scaler\n",
    "s_x = 'ckpt/ml/2stage-1/SCALER_2/x_scaler.pkl'\n",
    "s_y = 'ckpt/ml/2stage-1/SCALER_2/y_scaler.pkl'\n",
    "\n",
    "sc_x = joblib.load(s_x)\n",
    "sc_y = joblib.load(s_y)\n",
    "\n",
    "tx = sc_x.transform(train_weather_x)\n",
    "vx = sc_x.transform(valid_weather_x)\n",
    "\n",
    "ty = sc_y.transform(train_weather_y[target_cols].values)\n",
    "vy = sc_y.transform(valid_weather_y[target_cols].values)\n",
    "test_y = sc_y.transform(test_weather_y[target_cols].values)"
   ]
  },
  {
   "cell_type": "code",
   "execution_count": 41,
   "id": "daeaacae",
   "metadata": {},
   "outputs": [
    {
     "name": "stdout",
     "output_type": "stream",
     "text": [
      "[0]\tvalidation_0-rmse:0.31555\n",
      "[1]\tvalidation_0-rmse:0.22241\n",
      "[2]\tvalidation_0-rmse:0.15790\n",
      "[3]\tvalidation_0-rmse:0.11361\n",
      "[4]\tvalidation_0-rmse:0.08368\n",
      "[5]\tvalidation_0-rmse:0.06442\n",
      "[6]\tvalidation_0-rmse:0.05281\n",
      "[7]\tvalidation_0-rmse:0.04581\n",
      "[8]\tvalidation_0-rmse:0.04209\n",
      "[9]\tvalidation_0-rmse:0.04013\n",
      "[10]\tvalidation_0-rmse:0.03918\n",
      "[11]\tvalidation_0-rmse:0.03879\n",
      "[12]\tvalidation_0-rmse:0.03857\n",
      "[13]\tvalidation_0-rmse:0.03849\n",
      "[14]\tvalidation_0-rmse:0.03847\n",
      "[15]\tvalidation_0-rmse:0.03846\n",
      "[16]\tvalidation_0-rmse:0.03853\n",
      "[17]\tvalidation_0-rmse:0.03853\n",
      "[18]\tvalidation_0-rmse:0.03855\n",
      "[19]\tvalidation_0-rmse:0.03856\n",
      "[20]\tvalidation_0-rmse:0.03855\n",
      "[21]\tvalidation_0-rmse:0.03855\n",
      "[22]\tvalidation_0-rmse:0.03856\n",
      "[23]\tvalidation_0-rmse:0.03856\n",
      "[24]\tvalidation_0-rmse:0.03856\n",
      "[25]\tvalidation_0-rmse:0.03858\n",
      "[26]\tvalidation_0-rmse:0.03858\n",
      "[27]\tvalidation_0-rmse:0.03858\n",
      "[28]\tvalidation_0-rmse:0.03859\n",
      "[29]\tvalidation_0-rmse:0.03859\n",
      "[30]\tvalidation_0-rmse:0.03859\n",
      "[31]\tvalidation_0-rmse:0.03859\n",
      "[32]\tvalidation_0-rmse:0.03859\n",
      "[33]\tvalidation_0-rmse:0.03859\n",
      "[34]\tvalidation_0-rmse:0.03860\n",
      "[35]\tvalidation_0-rmse:0.03860\n",
      "[36]\tvalidation_0-rmse:0.03860\n",
      "[37]\tvalidation_0-rmse:0.03867\n",
      "[38]\tvalidation_0-rmse:0.03868\n",
      "[39]\tvalidation_0-rmse:0.03868\n",
      "[40]\tvalidation_0-rmse:0.03868\n",
      "[41]\tvalidation_0-rmse:0.03869\n",
      "[42]\tvalidation_0-rmse:0.03869\n",
      "[43]\tvalidation_0-rmse:0.03867\n",
      "[44]\tvalidation_0-rmse:0.03870\n",
      "[45]\tvalidation_0-rmse:0.03870\n",
      "[46]\tvalidation_0-rmse:0.03871\n",
      "[47]\tvalidation_0-rmse:0.03872\n",
      "[48]\tvalidation_0-rmse:0.03872\n",
      "[49]\tvalidation_0-rmse:0.03873\n",
      "[0]\tvalidation_0-rmse:0.31524\n",
      "[1]\tvalidation_0-rmse:0.22198\n",
      "[2]\tvalidation_0-rmse:0.15731\n",
      "[3]\tvalidation_0-rmse:0.11288\n",
      "[4]\tvalidation_0-rmse:0.08304\n",
      "[5]\tvalidation_0-rmse:0.06350\n",
      "[6]\tvalidation_0-rmse:0.05138\n",
      "[7]\tvalidation_0-rmse:0.04435\n",
      "[8]\tvalidation_0-rmse:0.04058\n",
      "[9]\tvalidation_0-rmse:0.03862\n",
      "[10]\tvalidation_0-rmse:0.03776\n",
      "[11]\tvalidation_0-rmse:0.03736\n",
      "[12]\tvalidation_0-rmse:0.03717\n",
      "[13]\tvalidation_0-rmse:0.03711\n",
      "[14]\tvalidation_0-rmse:0.03710\n",
      "[15]\tvalidation_0-rmse:0.03711\n",
      "[16]\tvalidation_0-rmse:0.03710\n",
      "[17]\tvalidation_0-rmse:0.03710\n",
      "[18]\tvalidation_0-rmse:0.03710\n",
      "[19]\tvalidation_0-rmse:0.03711\n",
      "[20]\tvalidation_0-rmse:0.03715\n",
      "[21]\tvalidation_0-rmse:0.03717\n",
      "[22]\tvalidation_0-rmse:0.03719\n",
      "[23]\tvalidation_0-rmse:0.03723\n",
      "[24]\tvalidation_0-rmse:0.03721\n",
      "[25]\tvalidation_0-rmse:0.03721\n",
      "[26]\tvalidation_0-rmse:0.03721\n",
      "[27]\tvalidation_0-rmse:0.03724\n",
      "[28]\tvalidation_0-rmse:0.03723\n",
      "[29]\tvalidation_0-rmse:0.03724\n",
      "[30]\tvalidation_0-rmse:0.03723\n",
      "[31]\tvalidation_0-rmse:0.03723\n",
      "[32]\tvalidation_0-rmse:0.03723\n",
      "[33]\tvalidation_0-rmse:0.03722\n",
      "[34]\tvalidation_0-rmse:0.03723\n",
      "[35]\tvalidation_0-rmse:0.03725\n",
      "[36]\tvalidation_0-rmse:0.03725\n",
      "[37]\tvalidation_0-rmse:0.03725\n",
      "[38]\tvalidation_0-rmse:0.03726\n",
      "[39]\tvalidation_0-rmse:0.03727\n",
      "[40]\tvalidation_0-rmse:0.03728\n",
      "[41]\tvalidation_0-rmse:0.03727\n",
      "[42]\tvalidation_0-rmse:0.03728\n",
      "[43]\tvalidation_0-rmse:0.03728\n",
      "[44]\tvalidation_0-rmse:0.03728\n",
      "[45]\tvalidation_0-rmse:0.03728\n",
      "[46]\tvalidation_0-rmse:0.03730\n",
      "[47]\tvalidation_0-rmse:0.03731\n",
      "[48]\tvalidation_0-rmse:0.03731\n",
      "[49]\tvalidation_0-rmse:0.03731\n"
     ]
    }
   ],
   "source": [
    "for idx, weather_c in enumerate([sc1, sc2]):\n",
    "    tx_ = tx[:, weather_c]\n",
    "    vx_ = vx[:, weather_c]\n",
    "#     test_weather_x = test[weather_c]\n",
    "#     test_weather_y = test[mid_target]\n",
    "\n",
    "\n",
    "    eval_set = [(vx_, vy)]\n",
    "    \n",
    "    reg = XGBRegressor(n_estimators=50, ## 붓스트랩 샘플 개수 또는 base_estimator 개수\n",
    "                       max_depth=5, ## 개별 나무의 최대 깊이\n",
    "                       gamma = 0, ## gamma\n",
    "                       importance_type='gain', ## gain, weight, cover, total_gain, total_cover\n",
    "                       reg_lambda = 1, ## tuning parameter of l2 penalty                   \n",
    "                       random_state=100\n",
    "                      ).fit(tx_,ty,\n",
    "                            eval_set = eval_set)\n",
    "    \n",
    "    filename = 'ckpt/ml/ensemble/xgb_ens2_{}.model'.format(idx)\n",
    "    reg.save_model(filename)\n",
    "    \n",
    "    \n",
    "    "
   ]
  },
  {
   "cell_type": "markdown",
   "id": "7ec80de9",
   "metadata": {},
   "source": [
    "# Save Model"
   ]
  },
  {
   "cell_type": "code",
   "execution_count": null,
   "id": "6c483956",
   "metadata": {},
   "outputs": [],
   "source": []
  },
  {
   "cell_type": "markdown",
   "id": "dea9911f",
   "metadata": {},
   "source": [
    "# Model Test"
   ]
  },
  {
   "cell_type": "code",
   "execution_count": 42,
   "id": "40ad63a8",
   "metadata": {},
   "outputs": [],
   "source": [
    "base_path = 'ckpt/ml/ensemble'"
   ]
  },
  {
   "cell_type": "code",
   "execution_count": 46,
   "id": "622b60f3",
   "metadata": {},
   "outputs": [],
   "source": [
    "model1_1 = XGBRegressor()\n",
    "model1_1.load_model(base_path+'/xgb_ens1_0.model')\n",
    "\n",
    "model1_2 = XGBRegressor()\n",
    "model1_2.load_model(base_path+'/xgb_ens1_1.model')\n",
    "\n",
    "\n",
    "model2_1 = XGBRegressor()\n",
    "model2_1.load_model(base_path+'/xgb_ens2_0.model')\n",
    "\n",
    "model2_2 = XGBRegressor()\n",
    "model2_2.load_model(base_path+'/xgb_ens2_1.model')"
   ]
  },
  {
   "cell_type": "code",
   "execution_count": 57,
   "id": "1f27278d",
   "metadata": {},
   "outputs": [],
   "source": [
    "mid_1 = model1_1.predict(test_x[:, wc1])\n",
    "mid_2 = model1_2.predict(test_x[:, wc2])\n",
    "\n",
    "mid = 0.5* mid_1 + 0.5*mid_2"
   ]
  },
  {
   "cell_type": "code",
   "execution_count": 58,
   "id": "e705af8e",
   "metadata": {},
   "outputs": [],
   "source": [
    "pred_1 = model2_1.predict(mid[:, sc1])\n",
    "pred_2 = model2_2.predict(mid[:, sc1])\n",
    "pred = 0.5*pred_1+ 0.5*pred_2"
   ]
  },
  {
   "cell_type": "markdown",
   "id": "33e1ead0",
   "metadata": {},
   "source": [
    "# Get Accuracy"
   ]
  },
  {
   "cell_type": "code",
   "execution_count": 59,
   "id": "6a2c4817",
   "metadata": {},
   "outputs": [],
   "source": [
    "from sklearn.metrics import mean_squared_error, mean_absolute_error\n",
    "def get_accuracy(y_hat, target):\n",
    "    mae = mean_absolute_error(target, y_hat)\n",
    "    mse = mean_squared_error(target, y_hat)\n",
    "    rmse = np.sqrt(mse)\n",
    "    \n",
    "#     mape = torch.mean(torch.abs((target - y_hat) / target)) * 100\n",
    "\n",
    "    acc = [round(mae, 4), round(mse, 4), round(rmse, 4)]\n",
    "    return acc"
   ]
  },
  {
   "cell_type": "code",
   "execution_count": 60,
   "id": "57358256",
   "metadata": {},
   "outputs": [
    {
     "data": {
      "text/plain": [
       "[0.0502, 0.004, 0.0629]"
      ]
     },
     "execution_count": 60,
     "metadata": {},
     "output_type": "execute_result"
    }
   ],
   "source": [
    "get_accuracy(pred, test_y)"
   ]
  },
  {
   "cell_type": "code",
   "execution_count": 59,
   "id": "dbd4bb0e",
   "metadata": {},
   "outputs": [
    {
     "data": {
      "text/plain": [
       "0.06194925823000602"
      ]
     },
     "execution_count": 59,
     "metadata": {},
     "output_type": "execute_result"
    }
   ],
   "source": []
  },
  {
   "cell_type": "code",
   "execution_count": null,
   "id": "9c7517d5",
   "metadata": {},
   "outputs": [],
   "source": []
  }
 ],
 "metadata": {
  "kernelspec": {
   "display_name": "Python 3 (ipykernel)",
   "language": "python",
   "name": "python3"
  },
  "language_info": {
   "codemirror_mode": {
    "name": "ipython",
    "version": 3
   },
   "file_extension": ".py",
   "mimetype": "text/x-python",
   "name": "python",
   "nbconvert_exporter": "python",
   "pygments_lexer": "ipython3",
   "version": "3.9.13"
  }
 },
 "nbformat": 4,
 "nbformat_minor": 5
}
