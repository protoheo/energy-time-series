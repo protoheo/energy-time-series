{
 "cells": [
  {
   "cell_type": "code",
   "execution_count": 1,
   "id": "abf65376",
   "metadata": {},
   "outputs": [],
   "source": [
    "from xgboost.sklearn import XGBRegressor\n",
    "import pandas as pd"
   ]
  },
  {
   "cell_type": "code",
   "execution_count": 2,
   "id": "b9b40b90",
   "metadata": {},
   "outputs": [],
   "source": [
    "import os    \n",
    "os.environ['KMP_DUPLICATE_LIB_OK'] = 'True'"
   ]
  },
  {
   "cell_type": "code",
   "execution_count": 3,
   "id": "d289457e",
   "metadata": {},
   "outputs": [],
   "source": [
    "import torch\n",
    "from model.model_load import load_model\n",
    "from configs.setting import global_setting\n",
    "from libs.common.project_paths import GetPaths\n",
    "\n",
    "import pandas as pd\n",
    "import matplotlib.pyplot as plt\n",
    "from libs import train_utils\n",
    "\n",
    "import joblib"
   ]
  },
  {
   "cell_type": "code",
   "execution_count": 4,
   "id": "41465f78",
   "metadata": {},
   "outputs": [],
   "source": [
    "import yaml\n",
    "\n",
    "def load_config(cfg_path):\n",
    "    return yaml.full_load(open(cfg_path, 'r', encoding='utf-8-sig'))\n"
   ]
  },
  {
   "cell_type": "code",
   "execution_count": 5,
   "id": "66808e5a",
   "metadata": {},
   "outputs": [],
   "source": [
    "df = pd.read_excel('res/total_set.xlsx')"
   ]
  },
  {
   "cell_type": "code",
   "execution_count": 6,
   "id": "a29a7f04",
   "metadata": {},
   "outputs": [],
   "source": [
    "config_file = 'cfg.yaml'\n",
    "config_path = GetPaths().get_configs_folder(config_file)\n",
    "\n",
    "config = load_config(config_path)"
   ]
  },
  {
   "cell_type": "markdown",
   "id": "5d104c82",
   "metadata": {},
   "source": [
    "# Dataset"
   ]
  },
  {
   "cell_type": "code",
   "execution_count": 19,
   "id": "e2e15374",
   "metadata": {},
   "outputs": [],
   "source": [
    "from sklearn.preprocessing import MinMaxScaler\n",
    "from libs.common.common import scaler_save"
   ]
  },
  {
   "cell_type": "code",
   "execution_count": 16,
   "id": "fd492076",
   "metadata": {},
   "outputs": [],
   "source": [
    "train, valid, test = train_utils.split_dataset(df, config)"
   ]
  },
  {
   "cell_type": "code",
   "execution_count": null,
   "id": "c7c06aeb",
   "metadata": {},
   "outputs": [],
   "source": []
  },
  {
   "cell_type": "code",
   "execution_count": 20,
   "id": "3bb14311",
   "metadata": {},
   "outputs": [],
   "source": [
    "weather_cols = config['DATA']['X_COLS']\n",
    "target_cols = config['DATA']['Y_TARGET']\n",
    "\n",
    "train_weather_x = train[weather_cols]\n",
    "valid_weather_x = valid[weather_cols]\n",
    "test_weather_x = test[weather_cols]\n",
    "\n",
    "train_weather_y = train[target_cols]\n",
    "valid_weather_y = valid[target_cols]\n",
    "test_weather_y = test[target_cols]\n",
    "\n",
    "# Set Scaler\n",
    "sc_x = MinMaxScaler()\n",
    "sc_x.fit(train_weather_x.values)\n",
    "sc_y = MinMaxScaler()\n",
    "sc_y.fit(train_weather_y.values)\n",
    "scaler_save(sc_x, name='x_scaler')\n",
    "scaler_save(sc_y, name='y_scaler')"
   ]
  },
  {
   "cell_type": "code",
   "execution_count": 23,
   "id": "25c6b6f3",
   "metadata": {},
   "outputs": [
    {
     "name": "stderr",
     "output_type": "stream",
     "text": [
      "C:\\Users\\proto\\anaconda3\\lib\\site-packages\\sklearn\\base.py:443: UserWarning: X has feature names, but MinMaxScaler was fitted without feature names\n",
      "  warnings.warn(\n",
      "C:\\Users\\proto\\anaconda3\\lib\\site-packages\\sklearn\\base.py:443: UserWarning: X has feature names, but MinMaxScaler was fitted without feature names\n",
      "  warnings.warn(\n",
      "C:\\Users\\proto\\anaconda3\\lib\\site-packages\\sklearn\\base.py:443: UserWarning: X has feature names, but MinMaxScaler was fitted without feature names\n",
      "  warnings.warn(\n"
     ]
    }
   ],
   "source": [
    "train_x = sc_x.transform(train_weather_x)\n",
    "valid_x = sc_x.transform(valid_weather_x)\n",
    "test_x = sc_x.transform(test_weather_x)\n",
    "\n",
    "# train_y = train_weather_y[target_cols].values\n",
    "# valid_y = valid_weather_y[target_cols].values\n",
    "# test_y = test_weather_y[target_cols].values\n",
    "\n",
    "train_y = sc_y.transform(train_weather_y[target_cols].values)\n",
    "valid_y = sc_y.transform(valid_weather_y[target_cols].values)\n",
    "test_y = sc_y.transform(test_weather_y[target_cols].values)\n",
    "\n",
    "eval_set = [(valid_x, valid_y)]"
   ]
  },
  {
   "cell_type": "code",
   "execution_count": 35,
   "id": "daeaacae",
   "metadata": {},
   "outputs": [
    {
     "name": "stdout",
     "output_type": "stream",
     "text": [
      "[0]\tvalidation_0-rmse:0.31864\n",
      "[1]\tvalidation_0-rmse:0.22864\n",
      "[2]\tvalidation_0-rmse:0.16735\n",
      "[3]\tvalidation_0-rmse:0.12697\n",
      "[4]\tvalidation_0-rmse:0.10127\n",
      "[5]\tvalidation_0-rmse:0.08597\n",
      "[6]\tvalidation_0-rmse:0.07742\n",
      "[7]\tvalidation_0-rmse:0.07266\n",
      "[8]\tvalidation_0-rmse:0.07010\n",
      "[9]\tvalidation_0-rmse:0.06891\n",
      "[10]\tvalidation_0-rmse:0.06837\n",
      "[11]\tvalidation_0-rmse:0.06804\n",
      "[12]\tvalidation_0-rmse:0.06788\n",
      "[13]\tvalidation_0-rmse:0.06778\n",
      "[14]\tvalidation_0-rmse:0.06766\n",
      "[15]\tvalidation_0-rmse:0.06752\n",
      "[16]\tvalidation_0-rmse:0.06762\n",
      "[17]\tvalidation_0-rmse:0.06760\n",
      "[18]\tvalidation_0-rmse:0.06761\n",
      "[19]\tvalidation_0-rmse:0.06774\n",
      "[20]\tvalidation_0-rmse:0.06800\n",
      "[21]\tvalidation_0-rmse:0.06797\n",
      "[22]\tvalidation_0-rmse:0.06801\n",
      "[23]\tvalidation_0-rmse:0.06795\n",
      "[24]\tvalidation_0-rmse:0.06795\n",
      "[25]\tvalidation_0-rmse:0.06797\n",
      "[26]\tvalidation_0-rmse:0.06818\n",
      "[27]\tvalidation_0-rmse:0.06820\n",
      "[28]\tvalidation_0-rmse:0.06821\n",
      "[29]\tvalidation_0-rmse:0.06831\n",
      "[30]\tvalidation_0-rmse:0.06826\n",
      "[31]\tvalidation_0-rmse:0.06805\n",
      "[32]\tvalidation_0-rmse:0.06801\n",
      "[33]\tvalidation_0-rmse:0.06800\n",
      "[34]\tvalidation_0-rmse:0.06823\n",
      "[35]\tvalidation_0-rmse:0.06837\n",
      "[36]\tvalidation_0-rmse:0.06845\n",
      "[37]\tvalidation_0-rmse:0.06849\n",
      "[38]\tvalidation_0-rmse:0.06852\n",
      "[39]\tvalidation_0-rmse:0.06853\n",
      "[40]\tvalidation_0-rmse:0.06846\n",
      "[41]\tvalidation_0-rmse:0.06857\n",
      "[42]\tvalidation_0-rmse:0.06860\n",
      "[43]\tvalidation_0-rmse:0.06855\n",
      "[44]\tvalidation_0-rmse:0.06871\n",
      "[45]\tvalidation_0-rmse:0.06871\n",
      "[46]\tvalidation_0-rmse:0.06874\n",
      "[47]\tvalidation_0-rmse:0.06880\n",
      "[48]\tvalidation_0-rmse:0.06888\n",
      "[49]\tvalidation_0-rmse:0.06892\n"
     ]
    }
   ],
   "source": [
    "reg = XGBRegressor(n_estimators=50, ## 붓스트랩 샘플 개수 또는 base_estimator 개수\n",
    "                   max_depth=5, ## 개별 나무의 최대 깊이\n",
    "                   gamma = 0, ## gamma\n",
    "                   importance_type='gain', ## gain, weight, cover, total_gain, total_cover\n",
    "                   reg_lambda = 1, ## tuning parameter of l2 penalty                   \n",
    "                   random_state=100\n",
    "                  ).fit(train_x,train_y,\n",
    "                        eval_set = eval_set)"
   ]
  },
  {
   "cell_type": "markdown",
   "id": "7ec80de9",
   "metadata": {},
   "source": [
    "# Save Model"
   ]
  },
  {
   "cell_type": "code",
   "execution_count": 40,
   "id": "b55423fe",
   "metadata": {},
   "outputs": [],
   "source": [
    "os.makedirs('ckpt/ml', exist_ok=True)\n",
    "\n",
    "filename = 'ckpt/ml/xgb_baseline.model'\n",
    "reg.save_model(filename)"
   ]
  },
  {
   "cell_type": "code",
   "execution_count": null,
   "id": "6c483956",
   "metadata": {},
   "outputs": [],
   "source": []
  },
  {
   "cell_type": "markdown",
   "id": "dea9911f",
   "metadata": {},
   "source": [
    "# Model Test"
   ]
  },
  {
   "cell_type": "code",
   "execution_count": 62,
   "id": "40ad63a8",
   "metadata": {},
   "outputs": [],
   "source": []
  },
  {
   "cell_type": "code",
   "execution_count": 42,
   "id": "622b60f3",
   "metadata": {},
   "outputs": [],
   "source": [
    "model = XGBRegressor() # 모델 초기화\n",
    "model.load_model(filename)"
   ]
  },
  {
   "cell_type": "code",
   "execution_count": 48,
   "id": "e369faa0",
   "metadata": {},
   "outputs": [],
   "source": [
    "pred = model.predict(test_x)"
   ]
  },
  {
   "cell_type": "code",
   "execution_count": 49,
   "id": "c704a40e",
   "metadata": {},
   "outputs": [],
   "source": [
    "RMSE = mean_squared_error(test_y, pred)**0.5"
   ]
  },
  {
   "cell_type": "markdown",
   "id": "33e1ead0",
   "metadata": {},
   "source": [
    "# Get Accuracy"
   ]
  },
  {
   "cell_type": "code",
   "execution_count": 65,
   "id": "6a2c4817",
   "metadata": {},
   "outputs": [],
   "source": [
    "from sklearn.metrics import mean_squared_error, mean_absolute_error\n",
    "def get_accuracy(y_hat, target):\n",
    "    mae = mean_absolute_error(target, y_hat)\n",
    "    mse = mean_squared_error(target, y_hat)\n",
    "    rmse = np.sqrt(mse)\n",
    "    \n",
    "#     mape = torch.mean(torch.abs((target - y_hat) / target)) * 100\n",
    "\n",
    "    acc = [round(mae, 4), round(mse, 4), round(rmse, 4)]\n",
    "    return acc"
   ]
  },
  {
   "cell_type": "code",
   "execution_count": 66,
   "id": "57358256",
   "metadata": {},
   "outputs": [
    {
     "data": {
      "text/plain": [
       "[0.0488, 0.0038, 0.0619]"
      ]
     },
     "execution_count": 66,
     "metadata": {},
     "output_type": "execute_result"
    }
   ],
   "source": [
    "get_accuracy(pred, test_y)"
   ]
  },
  {
   "cell_type": "code",
   "execution_count": 59,
   "id": "dbd4bb0e",
   "metadata": {},
   "outputs": [
    {
     "data": {
      "text/plain": [
       "0.06194925823000602"
      ]
     },
     "execution_count": 59,
     "metadata": {},
     "output_type": "execute_result"
    }
   ],
   "source": []
  },
  {
   "cell_type": "code",
   "execution_count": null,
   "id": "9c7517d5",
   "metadata": {},
   "outputs": [],
   "source": []
  }
 ],
 "metadata": {
  "kernelspec": {
   "display_name": "Python 3 (ipykernel)",
   "language": "python",
   "name": "python3"
  },
  "language_info": {
   "codemirror_mode": {
    "name": "ipython",
    "version": 3
   },
   "file_extension": ".py",
   "mimetype": "text/x-python",
   "name": "python",
   "nbconvert_exporter": "python",
   "pygments_lexer": "ipython3",
   "version": "3.9.13"
  }
 },
 "nbformat": 4,
 "nbformat_minor": 5
}
